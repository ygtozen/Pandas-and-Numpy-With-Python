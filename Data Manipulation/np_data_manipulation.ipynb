{
 "cells": [
  {
   "cell_type": "markdown",
   "id": "5600826b-1dae-438e-b3d0-d932050dbcce",
   "metadata": {},
   "source": [
    "# Neden NumPy ?"
   ]
  },
  {
   "cell_type": "code",
   "execution_count": 6,
   "id": "851fb4c5-dded-46c7-91cf-ccde17a25975",
   "metadata": {},
   "outputs": [],
   "source": [
    "a = [1,2,3,4]\n",
    "b = [2,3,4,5]"
   ]
  },
  {
   "cell_type": "code",
   "execution_count": 8,
   "id": "6a42e984-d9ab-4188-815c-955ced570a88",
   "metadata": {},
   "outputs": [
    {
     "data": {
      "text/plain": [
       "[2, 6, 12, 20]"
      ]
     },
     "execution_count": 8,
     "metadata": {},
     "output_type": "execute_result"
    }
   ],
   "source": [
    "ab = []\n",
    "\n",
    "for i in range(0, len(a)):\n",
    "    ab.append(a[i] * b[i])\n",
    "    \n",
    "ab"
   ]
  },
  {
   "cell_type": "code",
   "execution_count": 9,
   "id": "550b90c0-c25b-4149-b9de-53ed12218b51",
   "metadata": {},
   "outputs": [],
   "source": [
    "import numpy as np"
   ]
  },
  {
   "cell_type": "code",
   "execution_count": 10,
   "id": "61b29f0e-d242-477a-a344-46e9752f4d64",
   "metadata": {},
   "outputs": [],
   "source": [
    "a = np.array([1,2,3,4])\n",
    "b = np.array([2,3,4,5])"
   ]
  },
  {
   "cell_type": "code",
   "execution_count": 11,
   "id": "6c53c49c-0053-481e-b2d5-080cfd63d496",
   "metadata": {},
   "outputs": [
    {
     "data": {
      "text/plain": [
       "array([ 2,  6, 12, 20])"
      ]
     },
     "execution_count": 11,
     "metadata": {},
     "output_type": "execute_result"
    }
   ],
   "source": [
    "a * b"
   ]
  },
  {
   "cell_type": "code",
   "execution_count": 14,
   "id": "dff6dad8-7654-49b3-ba89-8554b41d0750",
   "metadata": {},
   "outputs": [
    {
     "data": {
      "text/plain": [
       "numpy.ndarray"
      ]
     },
     "execution_count": 14,
     "metadata": {},
     "output_type": "execute_result"
    }
   ],
   "source": [
    "type(a)"
   ]
  },
  {
   "cell_type": "markdown",
   "id": "1f6c1c68-42b8-4cf5-8b90-6ec17b40baaa",
   "metadata": {},
   "source": [
    "## NumPy Array'i Oluşturma"
   ]
  },
  {
   "cell_type": "code",
   "execution_count": 1,
   "id": "26c927f7-f37e-4079-be2d-730bf5781210",
   "metadata": {},
   "outputs": [],
   "source": [
    "import numpy as np"
   ]
  },
  {
   "cell_type": "code",
   "execution_count": 17,
   "id": "a6bcbc62-522f-433c-8164-775ecfe4854c",
   "metadata": {},
   "outputs": [
    {
     "data": {
      "text/plain": [
       "array([1, 2, 3, 4, 5])"
      ]
     },
     "execution_count": 17,
     "metadata": {},
     "output_type": "execute_result"
    }
   ],
   "source": [
    "np.array([1,2,3,4,5])"
   ]
  },
  {
   "cell_type": "code",
   "execution_count": 18,
   "id": "83be3da9-f2bc-4b09-a8f4-7f54aa5ce55b",
   "metadata": {},
   "outputs": [],
   "source": [
    "a = np.array([1,2,3,4,5])"
   ]
  },
  {
   "cell_type": "code",
   "execution_count": 19,
   "id": "87ca7539-5319-451d-81d1-1f719114fdf4",
   "metadata": {},
   "outputs": [
    {
     "data": {
      "text/plain": [
       "numpy.ndarray"
      ]
     },
     "execution_count": 19,
     "metadata": {},
     "output_type": "execute_result"
    }
   ],
   "source": [
    "type(a)"
   ]
  },
  {
   "cell_type": "code",
   "execution_count": 21,
   "id": "7e3db1e9-22de-40de-adb8-46be99dc9715",
   "metadata": {},
   "outputs": [
    {
     "data": {
      "text/plain": [
       "array([ 3.14,  4.  ,  2.  , 13.  ])"
      ]
     },
     "execution_count": 21,
     "metadata": {},
     "output_type": "execute_result"
    }
   ],
   "source": [
    "np.array([3.14, 4, 2, 13])"
   ]
  },
  {
   "cell_type": "code",
   "execution_count": 22,
   "id": "e2d8ddc3-2a04-4c67-8d0b-aee663cb5872",
   "metadata": {},
   "outputs": [
    {
     "data": {
      "text/plain": [
       "array([ 3,  4,  2, 13])"
      ]
     },
     "execution_count": 22,
     "metadata": {},
     "output_type": "execute_result"
    }
   ],
   "source": [
    "np.array([3.14, 4, 2, 13], dtype = \"int32\")"
   ]
  },
  {
   "cell_type": "markdown",
   "id": "843ac246-808f-4833-90c4-4011aaa0b460",
   "metadata": {},
   "source": [
    "#### Sıfırdan Array Oluşturma"
   ]
  },
  {
   "cell_type": "code",
   "execution_count": 35,
   "id": "4337e41f-7c1b-440f-bb35-e36fd56c7d31",
   "metadata": {},
   "outputs": [
    {
     "data": {
      "text/plain": [
       "array([0, 0, 0, 0, 0, 0, 0, 0, 0, 0])"
      ]
     },
     "execution_count": 35,
     "metadata": {},
     "output_type": "execute_result"
    }
   ],
   "source": [
    "# 10 tane sıfırdan oluşan array oluşturduk\n",
    "np.zeros(10, dtype = int)"
   ]
  },
  {
   "cell_type": "code",
   "execution_count": 36,
   "id": "5d635368-9149-44cb-8b7d-ec91a3299584",
   "metadata": {},
   "outputs": [
    {
     "data": {
      "text/plain": [
       "array([[1, 1, 1, 1, 1],\n",
       "       [1, 1, 1, 1, 1],\n",
       "       [1, 1, 1, 1, 1]])"
      ]
     },
     "execution_count": 36,
     "metadata": {},
     "output_type": "execute_result"
    }
   ],
   "source": [
    "# 3x5 boyunda 1'lerden oluşan array oluşturduk\n",
    "np.ones((3,5), dtype = int)"
   ]
  },
  {
   "cell_type": "code",
   "execution_count": 37,
   "id": "6d76c487-767c-48c5-8d76-1f8ffe9cdf41",
   "metadata": {},
   "outputs": [
    {
     "data": {
      "text/plain": [
       "array([[3, 3, 3],\n",
       "       [3, 3, 3],\n",
       "       [3, 3, 3]])"
      ]
     },
     "execution_count": 37,
     "metadata": {},
     "output_type": "execute_result"
    }
   ],
   "source": [
    "# Sadece belli bir sayıda array oluşturmak için full() fonksiyonu kullanılır\n",
    "np.full((3,3), 3)"
   ]
  },
  {
   "cell_type": "code",
   "execution_count": 39,
   "id": "14ec91d2-a718-48f1-ad07-02a3896aec4d",
   "metadata": {},
   "outputs": [
    {
     "data": {
      "text/plain": [
       "array([ 0,  3,  6,  9, 12, 15, 18, 21, 24, 27, 30])"
      ]
     },
     "execution_count": 39,
     "metadata": {},
     "output_type": "execute_result"
    }
   ],
   "source": [
    "# Doğrusal bir array oluşturmak, 0'dan 31'e kadar üçer üçer artan dizi\n",
    "np.arange(0,31, 3)"
   ]
  },
  {
   "cell_type": "code",
   "execution_count": 40,
   "id": "5c72aa04-e3fd-48b4-aa4b-1cf1bc192485",
   "metadata": {},
   "outputs": [
    {
     "data": {
      "text/plain": [
       "array([0.        , 0.11111111, 0.22222222, 0.33333333, 0.44444444,\n",
       "       0.55555556, 0.66666667, 0.77777778, 0.88888889, 1.        ])"
      ]
     },
     "execution_count": 40,
     "metadata": {},
     "output_type": "execute_result"
    }
   ],
   "source": [
    "# İki değer arasında belirli bir sayıda değer oluşturma, 0 ile 1 arasında 10 tane değer oluşurduk -> linspace\n",
    "np.linspace(0,1, 10)"
   ]
  },
  {
   "cell_type": "code",
   "execution_count": 42,
   "id": "059041c6-25ba-45c7-8334-4713bb739e0e",
   "metadata": {},
   "outputs": [
    {
     "data": {
      "text/plain": [
       "array([[ 6.57915582, 17.39517549,  9.74704947, 18.40482578],\n",
       "       [13.34427853, 11.77473767, 10.56501572,  4.664746  ],\n",
       "       [11.10676181,  6.08972048,  6.89952054,  9.33275028]])"
      ]
     },
     "execution_count": 42,
     "metadata": {},
     "output_type": "execute_result"
    }
   ],
   "source": [
    "# Normal dağılım, ortalaması 10, std 4 olan 3x4 boyudunda matris\n",
    "np.random.normal(10,4, (3,4))"
   ]
  },
  {
   "cell_type": "code",
   "execution_count": 43,
   "id": "1271a61a-204d-411b-9e09-e7fc666de629",
   "metadata": {},
   "outputs": [
    {
     "data": {
      "text/plain": [
       "array([[4, 8, 3],\n",
       "       [3, 5, 2],\n",
       "       [0, 7, 2]])"
      ]
     },
     "execution_count": 43,
     "metadata": {},
     "output_type": "execute_result"
    }
   ],
   "source": [
    "# int sayılardan rastgele sayılardan oluşan diz\n",
    "np.random.randint(0,10, (3,3))"
   ]
  },
  {
   "cell_type": "markdown",
   "id": "9fc594a9-a316-4778-953d-66e1c1923cd3",
   "metadata": {},
   "source": [
    "## NumpPy Array Özellikleri"
   ]
  },
  {
   "cell_type": "markdown",
   "id": "0cbb5041-b3e2-4038-b173-fa383622f54a",
   "metadata": {},
   "source": [
    "* **ndim** : boyut sayısı\n",
    "* **shape** : boyut bilgisi\n",
    "* **size** : toplam eleman sayısı\n",
    "* **dtype** : array veri tipi "
   ]
  },
  {
   "cell_type": "code",
   "execution_count": 2,
   "id": "8932b9ab-2bf3-4077-8d50-5676f89ca2dc",
   "metadata": {},
   "outputs": [],
   "source": [
    "import numpy as np"
   ]
  },
  {
   "cell_type": "code",
   "execution_count": 6,
   "id": "5fabea68-045c-4741-a810-8acf7ad9484c",
   "metadata": {},
   "outputs": [
    {
     "data": {
      "text/plain": [
       "array([1, 4, 6, 4, 8, 1, 0, 4, 3, 2])"
      ]
     },
     "execution_count": 6,
     "metadata": {},
     "output_type": "execute_result"
    }
   ],
   "source": [
    "# 0 ile 10 arasında 10 tane rastgele int değer oluşturduk\n",
    "np.random.randint(10, size = 10)"
   ]
  },
  {
   "cell_type": "code",
   "execution_count": 17,
   "id": "5b1e01eb-4d47-477e-be6d-a418b00a0218",
   "metadata": {},
   "outputs": [
    {
     "data": {
      "text/plain": [
       "array([1, 7, 8, 5, 6, 2, 2, 8, 2, 8])"
      ]
     },
     "execution_count": 17,
     "metadata": {},
     "output_type": "execute_result"
    }
   ],
   "source": [
    "a = np.random.randint(10, size = 10)\n",
    "a"
   ]
  },
  {
   "cell_type": "code",
   "execution_count": 18,
   "id": "733a3197-d7a6-4422-ad83-f4daffd27e2e",
   "metadata": {},
   "outputs": [
    {
     "data": {
      "text/plain": [
       "1"
      ]
     },
     "execution_count": 18,
     "metadata": {},
     "output_type": "execute_result"
    }
   ],
   "source": [
    "# boyut sayısı -> tek boyutlu (vektör olduğu için sonuç 1)\n",
    "a.ndim"
   ]
  },
  {
   "cell_type": "code",
   "execution_count": 19,
   "id": "7f31e877-5831-4de9-adde-75583362d4e5",
   "metadata": {},
   "outputs": [
    {
     "data": {
      "text/plain": [
       "(10,)"
      ]
     },
     "execution_count": 19,
     "metadata": {},
     "output_type": "execute_result"
    }
   ],
   "source": [
    "# boyut bilgisini verdi, elimizdeki array tek boyutlu olduğu için sadece bir boyutunun bilgisi\n",
    "# verilmiş ve içerisinde 10 tane eleman var denmiş\n",
    "a.shape"
   ]
  },
  {
   "cell_type": "code",
   "execution_count": 20,
   "id": "bee515cb-3547-466d-9d52-40abed546924",
   "metadata": {},
   "outputs": [
    {
     "data": {
      "text/plain": [
       "10"
      ]
     },
     "execution_count": 20,
     "metadata": {},
     "output_type": "execute_result"
    }
   ],
   "source": [
    "# içindeki toplam eleman sayısını verdi\n",
    "a.size"
   ]
  },
  {
   "cell_type": "code",
   "execution_count": 21,
   "id": "d4a454e3-a360-4ce5-8847-493cb84abaaa",
   "metadata": {},
   "outputs": [
    {
     "data": {
      "text/plain": [
       "dtype('int32')"
      ]
     },
     "execution_count": 21,
     "metadata": {},
     "output_type": "execute_result"
    }
   ],
   "source": [
    "a.dtype"
   ]
  },
  {
   "cell_type": "code",
   "execution_count": 22,
   "id": "ffb7f13f-e955-4e72-99ea-bac18a8d71f1",
   "metadata": {},
   "outputs": [
    {
     "data": {
      "text/plain": [
       "array([[7, 5, 6, 4, 6],\n",
       "       [5, 8, 4, 9, 8],\n",
       "       [7, 9, 4, 7, 5]])"
      ]
     },
     "execution_count": 22,
     "metadata": {},
     "output_type": "execute_result"
    }
   ],
   "source": [
    "b = np.random.randint(10, size = (3,5))\n",
    "b"
   ]
  },
  {
   "cell_type": "code",
   "execution_count": 24,
   "id": "35c8097c-d3d3-4e7e-88df-96270a658539",
   "metadata": {},
   "outputs": [
    {
     "data": {
      "text/plain": [
       "2"
      ]
     },
     "execution_count": 24,
     "metadata": {},
     "output_type": "execute_result"
    }
   ],
   "source": [
    "# matris olduğu için 2 boyutlu sonuç 2 çıktı\n",
    "b.ndim"
   ]
  },
  {
   "cell_type": "code",
   "execution_count": 26,
   "id": "d0c422b6-970c-426e-bc3e-8a411f734c86",
   "metadata": {},
   "outputs": [
    {
     "data": {
      "text/plain": [
       "(3, 5)"
      ]
     },
     "execution_count": 26,
     "metadata": {},
     "output_type": "execute_result"
    }
   ],
   "source": [
    "# 3x5 boyunda\n",
    "b.shape"
   ]
  },
  {
   "cell_type": "code",
   "execution_count": 28,
   "id": "d23e2737-e6d8-4c3c-9d70-7fdeafa34d5e",
   "metadata": {},
   "outputs": [
    {
     "data": {
      "text/plain": [
       "15"
      ]
     },
     "execution_count": 28,
     "metadata": {},
     "output_type": "execute_result"
    }
   ],
   "source": [
    "# toplam eleman sayısı\n",
    "b.size"
   ]
  },
  {
   "cell_type": "code",
   "execution_count": 30,
   "id": "512120ca-4973-4cae-83a0-8766d90936cb",
   "metadata": {},
   "outputs": [
    {
     "data": {
      "text/plain": [
       "dtype('int32')"
      ]
     },
     "execution_count": 30,
     "metadata": {},
     "output_type": "execute_result"
    }
   ],
   "source": [
    "# içerisindeki tip\n",
    "b.dtype"
   ]
  },
  {
   "cell_type": "markdown",
   "id": "a647c3be-9936-4337-86cf-7a3bfefb05cc",
   "metadata": {},
   "source": [
    "## Yeniden Şekillendirme (reshaping) : reshape"
   ]
  },
  {
   "cell_type": "code",
   "execution_count": 35,
   "id": "15e70a80-2900-4ca2-a4b2-3500d189b809",
   "metadata": {},
   "outputs": [
    {
     "data": {
      "text/plain": [
       "array([1, 2, 3, 4, 5, 6, 7, 8, 9])"
      ]
     },
     "execution_count": 35,
     "metadata": {},
     "output_type": "execute_result"
    }
   ],
   "source": [
    "np.arange(1,10)"
   ]
  },
  {
   "cell_type": "code",
   "execution_count": 65,
   "id": "4c700606-e9d7-4089-a1b4-dd18c14c874e",
   "metadata": {},
   "outputs": [],
   "source": [
    "# Burada elimizde 1'den 10'a kadar oluşan rakamlardan bir array var. Amacım bu array üzerinden \n",
    "# 3x3 'lü yeni bir array oluşturmak olsun işte reshape methodu (fonksiyonu) kullanılır.\n",
    "# Peki neden böyle bir şeye ihtiyacımız var, şöyleki yaptığımız çalışmalarda fonksiyonlarımızın yada \n",
    "# döngülerimizin üretmiş olduğu çıktıları tek bir boyutta tek bir array formunda gerçekleşebiliyor.\n",
    "# Bunları tek boyuttan 2 boyuta, bazende 2 boyuttan tek boyuta indirmek ihtiyaçları \n",
    "# gerçekleşebiliyor. İşte bu sebeple bu yapısal dönüşümleri iyi kavramak gerekiyor."
   ]
  },
  {
   "cell_type": "code",
   "execution_count": 39,
   "id": "43368ad4-7ce4-481b-b965-bf59408a3c3c",
   "metadata": {},
   "outputs": [
    {
     "data": {
      "text/plain": [
       "array([[1, 2, 3],\n",
       "       [4, 5, 6],\n",
       "       [7, 8, 9]])"
      ]
     },
     "execution_count": 39,
     "metadata": {},
     "output_type": "execute_result"
    }
   ],
   "source": [
    "np.arange(1,10).reshape((3,3))"
   ]
  },
  {
   "cell_type": "code",
   "execution_count": 43,
   "id": "5373cfe0-5ac0-4bed-9293-68c75b7fee02",
   "metadata": {},
   "outputs": [
    {
     "data": {
      "text/plain": [
       "array([1, 2, 3, 4, 5, 6, 7, 8, 9])"
      ]
     },
     "execution_count": 43,
     "metadata": {},
     "output_type": "execute_result"
    }
   ],
   "source": [
    "a = np.arange(1,10)\n",
    "a"
   ]
  },
  {
   "cell_type": "code",
   "execution_count": 44,
   "id": "c4457281-a7fa-4900-877f-e99af554ea48",
   "metadata": {},
   "outputs": [
    {
     "data": {
      "text/plain": [
       "1"
      ]
     },
     "execution_count": 44,
     "metadata": {},
     "output_type": "execute_result"
    }
   ],
   "source": [
    "a.ndim"
   ]
  },
  {
   "cell_type": "code",
   "execution_count": 50,
   "id": "988de631-2cd6-4d06-9c0d-50fcb5c48022",
   "metadata": {},
   "outputs": [],
   "source": [
    "# 2 boyutlu olur ama 1 satır 9 sütundan oluşur\n",
    "b = a.reshape((1,9))"
   ]
  },
  {
   "cell_type": "code",
   "execution_count": 51,
   "id": "f508fc6c-1dae-4c92-9df1-0cb82a3834fa",
   "metadata": {},
   "outputs": [
    {
     "data": {
      "text/plain": [
       "2"
      ]
     },
     "execution_count": 51,
     "metadata": {},
     "output_type": "execute_result"
    }
   ],
   "source": [
    "b.ndim"
   ]
  },
  {
   "cell_type": "code",
   "execution_count": 62,
   "id": "1ea54261-8f58-4093-90d4-fa22d1d1565b",
   "metadata": {},
   "outputs": [],
   "source": [
    "# 2 boyuttan tek boyuta indirgedik"
   ]
  },
  {
   "cell_type": "code",
   "execution_count": 54,
   "id": "4ff8789d-caf8-40d3-bd1e-5c8d5a3cdf22",
   "metadata": {},
   "outputs": [
    {
     "data": {
      "text/plain": [
       "array([[7, 5, 1],\n",
       "       [5, 1, 7],\n",
       "       [7, 8, 2]])"
      ]
     },
     "execution_count": 54,
     "metadata": {},
     "output_type": "execute_result"
    }
   ],
   "source": [
    "a = np.random.randint(1,10, size = (3,3))\n",
    "a"
   ]
  },
  {
   "cell_type": "code",
   "execution_count": 58,
   "id": "024e6d39-3edf-4195-a34b-d6c373d8b39f",
   "metadata": {},
   "outputs": [],
   "source": [
    "b = a.reshape(9)"
   ]
  },
  {
   "cell_type": "code",
   "execution_count": 59,
   "id": "7c219ef4-9150-47ae-b5a2-01019b3c9bb6",
   "metadata": {},
   "outputs": [
    {
     "data": {
      "text/plain": [
       "array([7, 5, 1, 5, 1, 7, 7, 8, 2])"
      ]
     },
     "execution_count": 59,
     "metadata": {},
     "output_type": "execute_result"
    }
   ],
   "source": [
    "b"
   ]
  },
  {
   "cell_type": "code",
   "execution_count": 70,
   "id": "0fd173b4-d6a6-4f64-859e-67172ea214b2",
   "metadata": {},
   "outputs": [
    {
     "data": {
      "text/plain": [
       "1"
      ]
     },
     "execution_count": 70,
     "metadata": {},
     "output_type": "execute_result"
    }
   ],
   "source": [
    "b.ndim"
   ]
  },
  {
   "cell_type": "markdown",
   "id": "75797348-f291-4abe-a9e6-a58fa8140776",
   "metadata": {},
   "source": [
    "# Array Birleştirme (Concatenation)"
   ]
  },
  {
   "cell_type": "code",
   "execution_count": 71,
   "id": "3bcf32a9-0c68-4688-871f-bc4caf3af9b6",
   "metadata": {},
   "outputs": [],
   "source": [
    "import numpy as np"
   ]
  },
  {
   "cell_type": "code",
   "execution_count": 73,
   "id": "9bf85f9a-99cb-44ba-9ebc-0f17458ea10b",
   "metadata": {},
   "outputs": [],
   "source": [
    "x = np.array([1,2,3])\n",
    "y = np.array([4,5,6])"
   ]
  },
  {
   "cell_type": "code",
   "execution_count": 76,
   "id": "4303c18f-c054-4de0-b78d-be0bbf96f322",
   "metadata": {},
   "outputs": [
    {
     "data": {
      "text/plain": [
       "array([1, 2, 3, 4, 5, 6])"
      ]
     },
     "execution_count": 76,
     "metadata": {},
     "output_type": "execute_result"
    }
   ],
   "source": [
    "np.concatenate([x, y])"
   ]
  },
  {
   "cell_type": "code",
   "execution_count": 77,
   "id": "0dbf84af-f36c-4855-afb9-745e1445ff0a",
   "metadata": {},
   "outputs": [],
   "source": [
    "z = np.array([7,8,9])"
   ]
  },
  {
   "cell_type": "code",
   "execution_count": 78,
   "id": "a69e7496-891a-4ace-9abb-3e928fb64264",
   "metadata": {},
   "outputs": [
    {
     "data": {
      "text/plain": [
       "array([1, 2, 3, 4, 5, 6, 7, 8, 9])"
      ]
     },
     "execution_count": 78,
     "metadata": {},
     "output_type": "execute_result"
    }
   ],
   "source": [
    "np.concatenate([x, y, z])"
   ]
  },
  {
   "cell_type": "code",
   "execution_count": 79,
   "id": "1a5de00b-0efd-4ad6-abeb-785f7942dc39",
   "metadata": {},
   "outputs": [],
   "source": [
    "# 2 boyut üzerinde birleştirme"
   ]
  },
  {
   "cell_type": "code",
   "execution_count": 81,
   "id": "2818a492-0436-45b1-a438-a01b633c3961",
   "metadata": {},
   "outputs": [],
   "source": [
    "a = np.array([[1,2,3], \n",
    "              [4,5,6]])"
   ]
  },
  {
   "cell_type": "code",
   "execution_count": 82,
   "id": "3b26e542-3905-4d69-a8e2-7fac0bfdd5b6",
   "metadata": {},
   "outputs": [
    {
     "data": {
      "text/plain": [
       "array([[1, 2, 3],\n",
       "       [4, 5, 6],\n",
       "       [1, 2, 3],\n",
       "       [4, 5, 6]])"
      ]
     },
     "execution_count": 82,
     "metadata": {},
     "output_type": "execute_result"
    }
   ],
   "source": [
    "np.concatenate([a, a])"
   ]
  },
  {
   "cell_type": "code",
   "execution_count": 85,
   "id": "0f47e138-cdb7-4537-a4bf-19e8326f253b",
   "metadata": {},
   "outputs": [
    {
     "data": {
      "text/plain": [
       "array([[1, 2, 3, 1, 2, 3],\n",
       "       [4, 5, 6, 4, 5, 6]])"
      ]
     },
     "execution_count": 85,
     "metadata": {},
     "output_type": "execute_result"
    }
   ],
   "source": [
    "# peki ben bunları satır bazında değilde sütun bazında birleştirmek istersek ne yapıcam,\n",
    "# o zamanda axis argümanını kullanıcaz, yan yana\n",
    "np.concatenate([a,a], axis = 1)"
   ]
  },
  {
   "cell_type": "code",
   "execution_count": 88,
   "id": "3e568d58-85f6-4864-a376-dd4d5d9e8a6b",
   "metadata": {},
   "outputs": [],
   "source": [
    "array1 = np.array([[1,2,3], \n",
    "                 [4,5,6]])\n",
    "array2 = np.array([[-1,-2,-3],\n",
    "                 [-4,-5,-6]])"
   ]
  },
  {
   "cell_type": "markdown",
   "id": "426b7077-c257-454c-8eeb-ab0c3e5590f9",
   "metadata": {},
   "source": [
    "### stac ile birleştirme"
   ]
  },
  {
   "cell_type": "code",
   "execution_count": 93,
   "id": "ecf2a8b7-6869-46c8-805b-5437515993a5",
   "metadata": {},
   "outputs": [
    {
     "data": {
      "text/plain": [
       "array([[ 1,  2,  3],\n",
       "       [ 4,  5,  6],\n",
       "       [-1, -2, -3],\n",
       "       [-4, -5, -6]])"
      ]
     },
     "execution_count": 93,
     "metadata": {},
     "output_type": "execute_result"
    }
   ],
   "source": [
    "# vstack -> dikeyde birleştirme\n",
    "np.vstack((array1, array2))"
   ]
  },
  {
   "cell_type": "code",
   "execution_count": 94,
   "id": "eba9d870-2c96-4901-a753-baba26b740a3",
   "metadata": {},
   "outputs": [
    {
     "data": {
      "text/plain": [
       "array([[ 1,  2,  3, -1, -2, -3],\n",
       "       [ 4,  5,  6, -4, -5, -6]])"
      ]
     },
     "execution_count": 94,
     "metadata": {},
     "output_type": "execute_result"
    }
   ],
   "source": [
    "# hstack -> yatayda birleştirme\n",
    "np.hstack((array1, array2))"
   ]
  },
  {
   "cell_type": "markdown",
   "id": "3c50e34e-1fc2-498f-b99d-96be196bed35",
   "metadata": {},
   "source": [
    "# Array Ayırma (Splitting) : split"
   ]
  },
  {
   "cell_type": "code",
   "execution_count": 96,
   "id": "24451d69-7b9d-44fd-8cb8-e3ac4e6be26b",
   "metadata": {},
   "outputs": [],
   "source": [
    "x = np.array([1,2,3,99,99,3,2,1])"
   ]
  },
  {
   "cell_type": "code",
   "execution_count": 97,
   "id": "2ba13956-d2b8-4402-9e44-e103d50c1d74",
   "metadata": {},
   "outputs": [],
   "source": [
    "# Burada [1,2,3]'ü [99,99]'u ve [3,2,1] ifadelerini ayırmak istiyorum."
   ]
  },
  {
   "cell_type": "code",
   "execution_count": 99,
   "id": "fcf150db-09fc-42a7-b968-7728cda67222",
   "metadata": {},
   "outputs": [
    {
     "data": {
      "text/plain": [
       "[array([1, 2, 3]), array([99, 99]), array([3, 2, 1])]"
      ]
     },
     "execution_count": 99,
     "metadata": {},
     "output_type": "execute_result"
    }
   ],
   "source": [
    "np.split(x, [3,5])\n",
    "# 0-3 , 3-4 , ve üzeri"
   ]
  },
  {
   "cell_type": "code",
   "execution_count": 100,
   "id": "229b2fdb-aab6-4435-bde2-c23426e14ba0",
   "metadata": {},
   "outputs": [],
   "source": [
    "a,b,c = np.split(x, [3,5])\n",
    "# çıktıları a,b,c içine atar"
   ]
  },
  {
   "cell_type": "code",
   "execution_count": 101,
   "id": "0ba33231-f0dc-4454-9562-866960b2100f",
   "metadata": {},
   "outputs": [
    {
     "data": {
      "text/plain": [
       "array([1, 2, 3])"
      ]
     },
     "execution_count": 101,
     "metadata": {},
     "output_type": "execute_result"
    }
   ],
   "source": [
    "a"
   ]
  },
  {
   "cell_type": "code",
   "execution_count": 102,
   "id": "247e8de8-9c68-4407-b307-0a55e7132361",
   "metadata": {},
   "outputs": [
    {
     "data": {
      "text/plain": [
       "array([99, 99])"
      ]
     },
     "execution_count": 102,
     "metadata": {},
     "output_type": "execute_result"
    }
   ],
   "source": [
    "b"
   ]
  },
  {
   "cell_type": "code",
   "execution_count": 103,
   "id": "35b73ac4-48e0-44d4-b4c1-c7278dcf987b",
   "metadata": {},
   "outputs": [
    {
     "data": {
      "text/plain": [
       "array([3, 2, 1])"
      ]
     },
     "execution_count": 103,
     "metadata": {},
     "output_type": "execute_result"
    }
   ],
   "source": [
    "c"
   ]
  },
  {
   "cell_type": "code",
   "execution_count": 104,
   "id": "abf13198-1b06-49d6-bc7a-59026b314038",
   "metadata": {},
   "outputs": [],
   "source": [
    "# 2 boyutlu split ayrıma"
   ]
  },
  {
   "cell_type": "code",
   "execution_count": 106,
   "id": "64d03ce9-389d-4432-8d90-bcb6e532b897",
   "metadata": {},
   "outputs": [
    {
     "data": {
      "text/plain": [
       "array([[ 0,  1,  2,  3],\n",
       "       [ 4,  5,  6,  7],\n",
       "       [ 8,  9, 10, 11],\n",
       "       [12, 13, 14, 15]])"
      ]
     },
     "execution_count": 106,
     "metadata": {},
     "output_type": "execute_result"
    }
   ],
   "source": [
    "m = np.arange(16).reshape((4,4))\n",
    "m"
   ]
  },
  {
   "cell_type": "code",
   "execution_count": 111,
   "id": "7219fe74-5fa7-4dca-a335-7d91ca4db550",
   "metadata": {},
   "outputs": [
    {
     "data": {
      "text/plain": [
       "[array([[0, 1, 2, 3],\n",
       "        [4, 5, 6, 7]]),\n",
       " array([[ 8,  9, 10, 11],\n",
       "        [12, 13, 14, 15]])]"
      ]
     },
     "execution_count": 111,
     "metadata": {},
     "output_type": "execute_result"
    }
   ],
   "source": [
    "np.vsplit(m, [2])\n",
    "# m'yi böl 2. indexten itibaren böl"
   ]
  },
  {
   "cell_type": "code",
   "execution_count": 115,
   "id": "d511b861-62ea-4e09-82db-153161671674",
   "metadata": {},
   "outputs": [
    {
     "data": {
      "text/plain": [
       "array([[0, 1, 2, 3],\n",
       "       [4, 5, 6, 7]])"
      ]
     },
     "execution_count": 115,
     "metadata": {},
     "output_type": "execute_result"
    }
   ],
   "source": [
    "ust,alt = np.vsplit(m, [2])\n",
    "ust"
   ]
  },
  {
   "cell_type": "code",
   "execution_count": 116,
   "id": "82e334a1-d0a9-4f87-b152-afc45e2023ee",
   "metadata": {},
   "outputs": [
    {
     "data": {
      "text/plain": [
       "array([[ 8,  9, 10, 11],\n",
       "       [12, 13, 14, 15]])"
      ]
     },
     "execution_count": 116,
     "metadata": {},
     "output_type": "execute_result"
    }
   ],
   "source": [
    "alt"
   ]
  },
  {
   "cell_type": "code",
   "execution_count": 113,
   "id": "03d62e7c-64eb-4c97-be3d-f86e088d91ca",
   "metadata": {},
   "outputs": [
    {
     "data": {
      "text/plain": [
       "[array([[ 0,  1],\n",
       "        [ 4,  5],\n",
       "        [ 8,  9],\n",
       "        [12, 13]]),\n",
       " array([[ 2,  3],\n",
       "        [ 6,  7],\n",
       "        [10, 11],\n",
       "        [14, 15]])]"
      ]
     },
     "execution_count": 113,
     "metadata": {},
     "output_type": "execute_result"
    }
   ],
   "source": [
    "np.hsplit(m, [2])\n",
    "# m'yi böl 2. sütundan itibaren böl"
   ]
  },
  {
   "cell_type": "code",
   "execution_count": 118,
   "id": "bdc0dd68-a7a9-4fbb-aa88-89d1f3f02051",
   "metadata": {},
   "outputs": [
    {
     "data": {
      "text/plain": [
       "array([[ 0,  1],\n",
       "       [ 4,  5],\n",
       "       [ 8,  9],\n",
       "       [12, 13]])"
      ]
     },
     "execution_count": 118,
     "metadata": {},
     "output_type": "execute_result"
    }
   ],
   "source": [
    "sag, sol = np.hsplit(m, [2])\n",
    "sag"
   ]
  },
  {
   "cell_type": "code",
   "execution_count": 119,
   "id": "e795d0d3-386c-4fc6-9c10-9181220865cf",
   "metadata": {},
   "outputs": [
    {
     "data": {
      "text/plain": [
       "array([[ 2,  3],\n",
       "       [ 6,  7],\n",
       "       [10, 11],\n",
       "       [14, 15]])"
      ]
     },
     "execution_count": 119,
     "metadata": {},
     "output_type": "execute_result"
    }
   ],
   "source": [
    "sol"
   ]
  },
  {
   "cell_type": "markdown",
   "id": "74c38b2c-08c0-4a54-8231-886d92142ac6",
   "metadata": {},
   "source": [
    "# Array Sıralama (Sorting)"
   ]
  },
  {
   "cell_type": "code",
   "execution_count": 125,
   "id": "7cfc99bb-3c20-446e-a544-d6bda25bdf3e",
   "metadata": {},
   "outputs": [
    {
     "data": {
      "text/plain": [
       "array([2, 1, 4, 3, 5])"
      ]
     },
     "execution_count": 125,
     "metadata": {},
     "output_type": "execute_result"
    }
   ],
   "source": [
    "v = np.array([2,1,4,3,5])\n",
    "v"
   ]
  },
  {
   "cell_type": "code",
   "execution_count": 126,
   "id": "726d96be-455c-4637-91f3-ef2bdbb135e8",
   "metadata": {},
   "outputs": [
    {
     "data": {
      "text/plain": [
       "array([1, 2, 3, 4, 5])"
      ]
     },
     "execution_count": 126,
     "metadata": {},
     "output_type": "execute_result"
    }
   ],
   "source": [
    "np.sort(v)"
   ]
  },
  {
   "cell_type": "code",
   "execution_count": 127,
   "id": "06482aa7-52fb-4b99-b969-f8345bd293e1",
   "metadata": {},
   "outputs": [
    {
     "data": {
      "text/plain": [
       "array([2, 1, 4, 3, 5])"
      ]
     },
     "execution_count": 127,
     "metadata": {},
     "output_type": "execute_result"
    }
   ],
   "source": [
    "v"
   ]
  },
  {
   "cell_type": "code",
   "execution_count": 130,
   "id": "50249252-6a59-450d-add6-cab9605c7d5a",
   "metadata": {},
   "outputs": [],
   "source": [
    "# bu şekilde kullanılırsa ana array'i değiştirir\n",
    "v.sort()"
   ]
  },
  {
   "cell_type": "code",
   "execution_count": 129,
   "id": "81ccbc6b-ebbb-4f3d-a8db-8cb81c03fe21",
   "metadata": {},
   "outputs": [
    {
     "data": {
      "text/plain": [
       "array([1, 2, 3, 4, 5])"
      ]
     },
     "execution_count": 129,
     "metadata": {},
     "output_type": "execute_result"
    }
   ],
   "source": [
    "v"
   ]
  },
  {
   "cell_type": "code",
   "execution_count": 131,
   "id": "7fa7b3c6-8f3a-4bff-b54f-3867a75ca7f4",
   "metadata": {},
   "outputs": [],
   "source": [
    "# 2 boyutlu array sıralama"
   ]
  },
  {
   "cell_type": "code",
   "execution_count": 135,
   "id": "3a06a5f6-c71f-4f6b-a2fe-c827484e5b86",
   "metadata": {},
   "outputs": [
    {
     "data": {
      "text/plain": [
       "array([[16.66832225, 21.05895371, 19.13691453],\n",
       "       [18.78991754, 21.31648264, 12.84432586],\n",
       "       [23.06447796, 14.85492859, 17.5057359 ]])"
      ]
     },
     "execution_count": 135,
     "metadata": {},
     "output_type": "execute_result"
    }
   ],
   "source": [
    "# ortalaması 20, std 5 3x3 boyutunda bir matris\n",
    "m = np.random.normal(20,5, (3,3))\n",
    "m"
   ]
  },
  {
   "cell_type": "code",
   "execution_count": 136,
   "id": "b9fa23b0-a3d7-4587-8f67-949baca96699",
   "metadata": {},
   "outputs": [],
   "source": [
    "# 2 boyutlu array'in satırlarını sıralamak istiyorum"
   ]
  },
  {
   "cell_type": "code",
   "execution_count": 141,
   "id": "5d41def9-93b5-401a-b084-e1e272b1d740",
   "metadata": {},
   "outputs": [
    {
     "data": {
      "text/plain": [
       "array([[16.66832225, 19.13691453, 21.05895371],\n",
       "       [12.84432586, 18.78991754, 21.31648264],\n",
       "       [14.85492859, 17.5057359 , 23.06447796]])"
      ]
     },
     "execution_count": 141,
     "metadata": {},
     "output_type": "execute_result"
    }
   ],
   "source": [
    "np.sort(m, axis = 1)"
   ]
  },
  {
   "cell_type": "code",
   "execution_count": 142,
   "id": "f4ac52cc-8ac6-4861-99cf-4996da8f5a7f",
   "metadata": {},
   "outputs": [
    {
     "data": {
      "text/plain": [
       "array([[16.66832225, 14.85492859, 12.84432586],\n",
       "       [18.78991754, 21.05895371, 17.5057359 ],\n",
       "       [23.06447796, 21.31648264, 19.13691453]])"
      ]
     },
     "execution_count": 142,
     "metadata": {},
     "output_type": "execute_result"
    }
   ],
   "source": [
    "np.sort(m, axis = 0)"
   ]
  },
  {
   "cell_type": "code",
   "execution_count": 145,
   "id": "ceb911ac-e340-4ed2-9da3-4ec40bd30dce",
   "metadata": {},
   "outputs": [
    {
     "data": {
      "text/plain": [
       "array([[[2, 0],\n",
       "        [6, 9],\n",
       "        [6, 9]],\n",
       "\n",
       "       [[0, 0],\n",
       "        [1, 4],\n",
       "        [2, 9]],\n",
       "\n",
       "       [[2, 4],\n",
       "        [7, 3],\n",
       "        [9, 8]]])"
      ]
     },
     "execution_count": 145,
     "metadata": {},
     "output_type": "execute_result"
    }
   ],
   "source": [
    "np.random.randint(10 , size = (3,3,2))"
   ]
  },
  {
   "cell_type": "markdown",
   "id": "cdedce99-107d-4c46-b77d-d277e4cb251e",
   "metadata": {},
   "source": [
    "# İndex ile Elemanlara Erişmek"
   ]
  },
  {
   "cell_type": "code",
   "execution_count": 2,
   "id": "a9909f58-8075-4b2f-ac46-f25370887d77",
   "metadata": {},
   "outputs": [
    {
     "data": {
      "text/plain": [
       "array([6, 3, 3, 6, 8, 4, 7, 2, 6, 8])"
      ]
     },
     "execution_count": 2,
     "metadata": {},
     "output_type": "execute_result"
    }
   ],
   "source": [
    "import numpy as np\n",
    "a = np.random.randint(10, size = 10)\n",
    "a"
   ]
  },
  {
   "cell_type": "code",
   "execution_count": 3,
   "id": "95d55367-ecf6-4afc-9533-1c187435c491",
   "metadata": {},
   "outputs": [
    {
     "data": {
      "text/plain": [
       "8"
      ]
     },
     "execution_count": 3,
     "metadata": {},
     "output_type": "execute_result"
    }
   ],
   "source": [
    "a[0]"
   ]
  },
  {
   "cell_type": "code",
   "execution_count": 4,
   "id": "f3460733-2cae-4afe-8e4b-d343ef6eaf51",
   "metadata": {},
   "outputs": [
    {
     "data": {
      "text/plain": [
       "8"
      ]
     },
     "execution_count": 4,
     "metadata": {},
     "output_type": "execute_result"
    }
   ],
   "source": [
    "a[-1]"
   ]
  },
  {
   "cell_type": "code",
   "execution_count": 5,
   "id": "65d29792-14aa-4e32-b8d0-7df32b1cd1cb",
   "metadata": {},
   "outputs": [
    {
     "data": {
      "text/plain": [
       "array([100,   6,   6,   7,   6,   1,   6,   1,   1,   8])"
      ]
     },
     "execution_count": 5,
     "metadata": {},
     "output_type": "execute_result"
    }
   ],
   "source": [
    "a[0] = 100\n",
    "a"
   ]
  },
  {
   "cell_type": "code",
   "execution_count": 4,
   "id": "8021a3d3-406a-4731-ac2b-b3a6a2d6f140",
   "metadata": {},
   "outputs": [
    {
     "data": {
      "text/plain": [
       "array([[7, 5, 1, 8, 2],\n",
       "       [9, 7, 5, 4, 0],\n",
       "       [9, 6, 2, 5, 5]])"
      ]
     },
     "execution_count": 4,
     "metadata": {},
     "output_type": "execute_result"
    }
   ],
   "source": [
    "m = np.random.randint(10, size = (3,5))\n",
    "m"
   ]
  },
  {
   "cell_type": "code",
   "execution_count": 10,
   "id": "81108db6-c401-481a-b60a-7effb31f9f98",
   "metadata": {},
   "outputs": [
    {
     "data": {
      "text/plain": [
       "1"
      ]
     },
     "execution_count": 10,
     "metadata": {},
     "output_type": "execute_result"
    }
   ],
   "source": [
    "m[0,0]"
   ]
  },
  {
   "cell_type": "code",
   "execution_count": 11,
   "id": "88c06979-0dbc-4e88-8a5b-eeda58f4b5ff",
   "metadata": {},
   "outputs": [
    {
     "data": {
      "text/plain": [
       "9"
      ]
     },
     "execution_count": 11,
     "metadata": {},
     "output_type": "execute_result"
    }
   ],
   "source": [
    "m[1,1]"
   ]
  },
  {
   "cell_type": "code",
   "execution_count": 14,
   "id": "4c2c9bd4-895c-4291-8a4b-b70b01ed9238",
   "metadata": {},
   "outputs": [
    {
     "data": {
      "text/plain": [
       "array([[ 1,  5,  2,  1,  0],\n",
       "       [ 5,  9,  0,  4, 99],\n",
       "       [ 4,  5,  4,  1,  7]])"
      ]
     },
     "execution_count": 14,
     "metadata": {},
     "output_type": "execute_result"
    }
   ],
   "source": [
    "m[1,4] = 99\n",
    "m"
   ]
  },
  {
   "cell_type": "code",
   "execution_count": 15,
   "id": "02ae9620-1e70-4a59-abb0-ebd369d793aa",
   "metadata": {},
   "outputs": [],
   "source": [
    "# Numpy arrayleri için fixtype yani sabitlenmiş tipli demiştik mesela burada bir sürekli değişken yani float\n",
    "# tipindeki  bir değeri bu arraye eklemeye çalışalım"
   ]
  },
  {
   "cell_type": "code",
   "execution_count": 16,
   "id": "22e3598a-62e3-4f8d-9bb5-03fae4235942",
   "metadata": {},
   "outputs": [
    {
     "data": {
      "text/plain": [
       "array([[ 1,  5,  2,  1,  0],\n",
       "       [ 5,  9,  0,  4, 99],\n",
       "       [ 4,  5,  4,  1,  7]])"
      ]
     },
     "execution_count": 16,
     "metadata": {},
     "output_type": "execute_result"
    }
   ],
   "source": [
    "m"
   ]
  },
  {
   "cell_type": "code",
   "execution_count": 5,
   "id": "b67ab27f-91e0-4e48-9047-bd9a539a091f",
   "metadata": {},
   "outputs": [
    {
     "data": {
      "text/plain": [
       "array([[7, 5, 1, 8, 2],\n",
       "       [2, 7, 5, 4, 0],\n",
       "       [9, 6, 2, 5, 5]])"
      ]
     },
     "execution_count": 5,
     "metadata": {},
     "output_type": "execute_result"
    }
   ],
   "source": [
    "# int'a çevirir fixtype olduğu için \n",
    "m[1,0] = 2.2\n",
    "m"
   ]
  },
  {
   "cell_type": "markdown",
   "id": "a8c001df-752d-40c1-9b57-fff682198be7",
   "metadata": {},
   "source": [
    "# Slicing ile Elemanlara Erişmek (Array Alt Küme İşlemleri)"
   ]
  },
  {
   "cell_type": "code",
   "execution_count": 6,
   "id": "8d69474d-e83f-4674-aacc-da44276ac876",
   "metadata": {},
   "outputs": [
    {
     "data": {
      "text/plain": [
       "array([20, 21, 22, 23, 24, 25, 26, 27, 28, 29])"
      ]
     },
     "execution_count": 6,
     "metadata": {},
     "output_type": "execute_result"
    }
   ],
   "source": [
    "import numpy as np\n",
    "a = np.arange(20,30)\n",
    "a"
   ]
  },
  {
   "cell_type": "code",
   "execution_count": 9,
   "id": "9d4a95aa-6617-4db4-8194-1cf0016ea1b3",
   "metadata": {},
   "outputs": [
    {
     "data": {
      "text/plain": [
       "array([20, 21, 22])"
      ]
     },
     "execution_count": 9,
     "metadata": {},
     "output_type": "execute_result"
    }
   ],
   "source": [
    "# 0. indexten 3.indexe kadar git, seç\n",
    "a[0:3]"
   ]
  },
  {
   "cell_type": "code",
   "execution_count": 10,
   "id": "96663706-a607-4350-b87a-c328a7089bd2",
   "metadata": {},
   "outputs": [
    {
     "data": {
      "text/plain": [
       "array([20, 21, 22])"
      ]
     },
     "execution_count": 10,
     "metadata": {},
     "output_type": "execute_result"
    }
   ],
   "source": [
    "# baştan 3. indexe kadar git, seç\n",
    "a[:3]"
   ]
  },
  {
   "cell_type": "code",
   "execution_count": 12,
   "id": "1f20a808-c173-488c-9784-671c28da60d9",
   "metadata": {},
   "outputs": [
    {
     "data": {
      "text/plain": [
       "array([23, 24, 25, 26, 27, 28, 29])"
      ]
     },
     "execution_count": 12,
     "metadata": {},
     "output_type": "execute_result"
    }
   ],
   "source": [
    "# 3.indexten son indexe kadar git\n",
    "a[3:]"
   ]
  },
  {
   "cell_type": "code",
   "execution_count": 18,
   "id": "8f33f803-c5c8-4591-810e-01958706e3a6",
   "metadata": {},
   "outputs": [
    {
     "data": {
      "text/plain": [
       "array([21, 23, 25, 27, 29])"
      ]
     },
     "execution_count": 18,
     "metadata": {},
     "output_type": "execute_result"
    }
   ],
   "source": [
    "# 1.indexten başlayarak ikişer ikişer artarak seçer\n",
    "a[1::2]"
   ]
  },
  {
   "cell_type": "code",
   "execution_count": 15,
   "id": "06046425-9475-4122-818b-b7e33c2f28ef",
   "metadata": {},
   "outputs": [
    {
     "data": {
      "text/plain": [
       "array([20, 22, 24, 26, 28])"
      ]
     },
     "execution_count": 15,
     "metadata": {},
     "output_type": "execute_result"
    }
   ],
   "source": [
    "a[::2]"
   ]
  },
  {
   "cell_type": "code",
   "execution_count": 19,
   "id": "ab926c00-317c-4e91-8209-a407fb865398",
   "metadata": {},
   "outputs": [
    {
     "data": {
      "text/plain": [
       "array([20, 23, 26, 29])"
      ]
     },
     "execution_count": 19,
     "metadata": {},
     "output_type": "execute_result"
    }
   ],
   "source": [
    "# 0.indexten başlar üçer üçer artarak seçer\n",
    "a[0::3]"
   ]
  },
  {
   "cell_type": "code",
   "execution_count": 20,
   "id": "e029537b-8603-4d52-ae6a-f399f9e81387",
   "metadata": {},
   "outputs": [],
   "source": [
    "# iki boyutlu slice işlemleri"
   ]
  },
  {
   "cell_type": "code",
   "execution_count": 22,
   "id": "3fff1797-cce1-43dd-ab02-e73e41f42fa9",
   "metadata": {},
   "outputs": [
    {
     "data": {
      "text/plain": [
       "array([[1, 4, 4, 8, 1],\n",
       "       [1, 6, 0, 8, 6],\n",
       "       [4, 5, 8, 3, 2],\n",
       "       [9, 1, 5, 9, 9],\n",
       "       [8, 7, 4, 3, 6]])"
      ]
     },
     "execution_count": 22,
     "metadata": {},
     "output_type": "execute_result"
    }
   ],
   "source": [
    "m = np.random.randint(10, size = (5,5))\n",
    "m"
   ]
  },
  {
   "cell_type": "code",
   "execution_count": 27,
   "id": "67ee2499-ef46-4ac1-94cf-d3a39999a484",
   "metadata": {},
   "outputs": [
    {
     "data": {
      "text/plain": [
       "array([1, 1, 4, 9, 8])"
      ]
     },
     "execution_count": 27,
     "metadata": {},
     "output_type": "execute_result"
    }
   ],
   "source": [
    "# matrisi iki bileşen olarak düşünücez satırlar ve sütunlar\n",
    "# m[:,0] -> bütün satırları seç virgül 0.sütun\n",
    "# bütun satırları seç ve şu sütunu seç demenin yolu budur\n",
    "m[:,0]"
   ]
  },
  {
   "cell_type": "code",
   "execution_count": 26,
   "id": "45174b38-30f5-40f0-883a-38368899b7e4",
   "metadata": {},
   "outputs": [
    {
     "data": {
      "text/plain": [
       "array([4, 6, 5, 1, 7])"
      ]
     },
     "execution_count": 26,
     "metadata": {},
     "output_type": "execute_result"
    }
   ],
   "source": [
    "# bütün satırı seç virgül 1.indexli sütunu seç\n",
    "m[:,1]"
   ]
  },
  {
   "cell_type": "code",
   "execution_count": 48,
   "id": "195c400c-166b-4015-9a37-6660062f7fe2",
   "metadata": {},
   "outputs": [],
   "source": [
    "# [0,:] -> 0.satır seç, tüm sütunları seç"
   ]
  },
  {
   "cell_type": "code",
   "execution_count": 28,
   "id": "84831cdf-01f7-4865-ad43-8c4a5face3e8",
   "metadata": {},
   "outputs": [
    {
     "data": {
      "text/plain": [
       "array([1, 4, 4, 8, 1])"
      ]
     },
     "execution_count": 28,
     "metadata": {},
     "output_type": "execute_result"
    }
   ],
   "source": [
    "m[0,:]"
   ]
  },
  {
   "cell_type": "code",
   "execution_count": 29,
   "id": "e5a8ea97-70fc-408b-a46d-5ce41eaf8518",
   "metadata": {},
   "outputs": [
    {
     "data": {
      "text/plain": [
       "array([1, 4, 4, 8, 1])"
      ]
     },
     "execution_count": 29,
     "metadata": {},
     "output_type": "execute_result"
    }
   ],
   "source": [
    "m[0]"
   ]
  },
  {
   "cell_type": "code",
   "execution_count": 31,
   "id": "539ba732-601b-4a80-a2a3-92a214650177",
   "metadata": {},
   "outputs": [
    {
     "data": {
      "text/plain": [
       "array([[1, 4, 4, 8, 1],\n",
       "       [1, 6, 0, 8, 6],\n",
       "       [4, 5, 8, 3, 2],\n",
       "       [9, 1, 5, 9, 9],\n",
       "       [8, 7, 4, 3, 6]])"
      ]
     },
     "execution_count": 31,
     "metadata": {},
     "output_type": "execute_result"
    }
   ],
   "source": [
    "m"
   ]
  },
  {
   "cell_type": "code",
   "execution_count": 32,
   "id": "5295af9e-865c-4a5e-9b18-ae44c83b7a74",
   "metadata": {},
   "outputs": [
    {
     "data": {
      "text/plain": [
       "array([1, 6, 0, 8, 6])"
      ]
     },
     "execution_count": 32,
     "metadata": {},
     "output_type": "execute_result"
    }
   ],
   "source": [
    "# 1.satırı seç , tüm sütunu seç\n",
    "m[1,:]"
   ]
  },
  {
   "cell_type": "code",
   "execution_count": 34,
   "id": "2631f93a-e31d-4b71-8420-f801d0daa702",
   "metadata": {},
   "outputs": [
    {
     "data": {
      "text/plain": [
       "array([[1, 4, 4],\n",
       "       [1, 6, 0]])"
      ]
     },
     "execution_count": 34,
     "metadata": {},
     "output_type": "execute_result"
    }
   ],
   "source": [
    "# 0.indexten 2.indexe kadar (0 ve 1) satırları seç , 0.indexten 3.indexe kadar sütunları seç\n",
    "m[0:2 , 0:3]"
   ]
  },
  {
   "cell_type": "code",
   "execution_count": 42,
   "id": "f6d6ed86-2f7a-41d5-b972-66dff842f002",
   "metadata": {},
   "outputs": [
    {
     "data": {
      "text/plain": [
       "array([[1, 4],\n",
       "       [1, 6],\n",
       "       [4, 5],\n",
       "       [9, 1],\n",
       "       [8, 7]])"
      ]
     },
     "execution_count": 42,
     "metadata": {},
     "output_type": "execute_result"
    }
   ],
   "source": [
    "# tüm satırları al, 0. ve 1. sütunları seç\n",
    "m[:,0:2]"
   ]
  },
  {
   "cell_type": "code",
   "execution_count": 44,
   "id": "1421c06b-f4ea-484a-89f7-a55fffb1d7fd",
   "metadata": {},
   "outputs": [
    {
     "data": {
      "text/plain": [
       "array([[1, 4, 1],\n",
       "       [1, 0, 6],\n",
       "       [4, 8, 2],\n",
       "       [9, 5, 9],\n",
       "       [8, 4, 6]])"
      ]
     },
     "execution_count": 44,
     "metadata": {},
     "output_type": "execute_result"
    }
   ],
   "source": [
    "# 0.indexten başlar ikişer ikişer artarak seçmeye devam et\n",
    "m[: , 0::2]"
   ]
  },
  {
   "cell_type": "code",
   "execution_count": 47,
   "id": "1218f45f-0116-4f63-9163-b25af790e2b3",
   "metadata": {},
   "outputs": [
    {
     "data": {
      "text/plain": [
       "array([[1, 6],\n",
       "       [4, 5]])"
      ]
     },
     "execution_count": 47,
     "metadata": {},
     "output_type": "execute_result"
    }
   ],
   "source": [
    "# 1. ve 2. satırları seç, 0. ve 1. sütunları seç\n",
    "m[1:3 , 0:2]"
   ]
  },
  {
   "cell_type": "markdown",
   "id": "9769c76e-9f61-4bc5-b598-77c42408f1db",
   "metadata": {},
   "source": [
    "# Alt Küme Üzerinde İşlem Yapmak"
   ]
  },
  {
   "cell_type": "markdown",
   "id": "d65545f6-4fa6-440a-a634-d609eb4030b3",
   "metadata": {},
   "source": [
    "* Örneğin bir arrayin alt kümesine eriştikten sonra bunu isimlendirip kayıt ettiğimizi düşünelim bu kayıt etmiş olduğumuz isimlendirme üzerinde bir değişiklik yaptığımızda arrayin ilk halindede değişiklik olmakta. Fakat bazen seçilen arrayin alt kümesi üzerinde o alt kümeye ait özel işlemler yapılmak istenebilir. Çok büyük boyutlu arrayler ile çalıştığımızda seçmiş olduğumuz arrayin alt kümesi üzerinde bi işlem yaptığımızda bunun ana array üzerinde değişikliğe sebep olması işimize gelebilir ama bazende ulaşmış olduğumuz alt küme üzerinde yapmış oldğumuz işlemlerin o alt kümelelere özel kalmasını isteriz işte bu durumda alt kümeleri bağımsızlaştırmak diyebileceğimiz bir işlem yapılması gerekiyor en azından bu işlemlerin farkında olunması gerekiyor hiç farkında olmadan bazı hatarlar yapmamak adına."
   ]
  },
  {
   "cell_type": "code",
   "execution_count": 50,
   "id": "01f1d3ca-2de1-429d-a1e2-50e5046d45b1",
   "metadata": {},
   "outputs": [
    {
     "data": {
      "text/plain": [
       "array([[9, 7, 3, 6, 9],\n",
       "       [9, 9, 7, 8, 5],\n",
       "       [8, 2, 9, 4, 9],\n",
       "       [5, 1, 8, 2, 2],\n",
       "       [5, 5, 1, 9, 3]])"
      ]
     },
     "execution_count": 50,
     "metadata": {},
     "output_type": "execute_result"
    }
   ],
   "source": [
    "import numpy as np\n",
    "a = np.random.randint(10, size = (5,5))\n",
    "a"
   ]
  },
  {
   "cell_type": "code",
   "execution_count": 52,
   "id": "514f0b1a-b32b-45ea-a473-83bfc91bf075",
   "metadata": {},
   "outputs": [
    {
     "data": {
      "text/plain": [
       "array([[9, 7],\n",
       "       [9, 9],\n",
       "       [8, 2]])"
      ]
     },
     "execution_count": 52,
     "metadata": {},
     "output_type": "execute_result"
    }
   ],
   "source": [
    "alt_a = a[0:3,0:2]\n",
    "alt_a"
   ]
  },
  {
   "cell_type": "code",
   "execution_count": 58,
   "id": "a530b2ac-69ab-4186-b5fb-811dddeffb60",
   "metadata": {},
   "outputs": [
    {
     "data": {
      "text/plain": [
       "array([[99999,     7],\n",
       "       [    9,   888],\n",
       "       [    8,     2]])"
      ]
     },
     "execution_count": 58,
     "metadata": {},
     "output_type": "execute_result"
    }
   ],
   "source": [
    "alt_a[0,0] = 99999\n",
    "alt_a[1,1] = 888\n",
    "alt_a"
   ]
  },
  {
   "cell_type": "code",
   "execution_count": 72,
   "id": "63f3d475-1dc0-428f-9a77-fbfaafa1113a",
   "metadata": {},
   "outputs": [
    {
     "data": {
      "text/plain": [
       "array([[99999,     7,     3,     6,     9],\n",
       "       [    9,   888,     7,     8,     5],\n",
       "       [    8,     2,     9,     4,     9],\n",
       "       [    5,     1,     8,     2,     2],\n",
       "       [    5,     5,     1,     9,     3]])"
      ]
     },
     "execution_count": 72,
     "metadata": {},
     "output_type": "execute_result"
    }
   ],
   "source": [
    "# Görüldüğü üzere alt kümede yapılan değişiklik ana a arrayinindede değişiklik yaptı\n",
    "# bu durum bazen çok büyük boyutlu arraylerde belirli parçaları seçip onlar üzerinde çalıştığımızda ve ana\n",
    "# array üzerindede değişiklik yaptığında işimize gelir fakat bazende arrayin alt kümesini seçip onun üzerinde\n",
    "# işlemler yapmak isteyebiliyoruz ve bu durumun ana arrayimizi bozmamasını istiyor olabiliriz.\n",
    "# bunun için copy() isimli bir method kullanıcaz.\n",
    "a"
   ]
  },
  {
   "cell_type": "code",
   "execution_count": 63,
   "id": "fde5e6fc-5bbb-4440-8728-3be659f9b9c9",
   "metadata": {},
   "outputs": [
    {
     "data": {
      "text/plain": [
       "array([[9, 4, 6, 2, 1],\n",
       "       [7, 0, 1, 4, 4],\n",
       "       [6, 4, 5, 6, 8],\n",
       "       [8, 3, 5, 2, 5],\n",
       "       [8, 9, 1, 2, 5]])"
      ]
     },
     "execution_count": 63,
     "metadata": {},
     "output_type": "execute_result"
    }
   ],
   "source": [
    "m = np.random.randint(10, size = (5,5))\n",
    "m"
   ]
  },
  {
   "cell_type": "code",
   "execution_count": 65,
   "id": "62c20196-492f-45c2-b3a6-71318b090036",
   "metadata": {},
   "outputs": [
    {
     "data": {
      "text/plain": [
       "array([[9, 4],\n",
       "       [7, 0],\n",
       "       [6, 4]])"
      ]
     },
     "execution_count": 65,
     "metadata": {},
     "output_type": "execute_result"
    }
   ],
   "source": [
    "# copy() metodunu yazdığımız zaman seçmiş olduğumuz alt kümeyi ana arrayden bağımsızlaştırır.\n",
    "alt_b = m[0:3,0:2].copy()\n",
    "alt_b"
   ]
  },
  {
   "cell_type": "code",
   "execution_count": 67,
   "id": "49fe1618-58ba-4aa4-a49b-a143c7cdd1bb",
   "metadata": {},
   "outputs": [
    {
     "data": {
      "text/plain": [
       "array([[9999,    4],\n",
       "       [   7,    0],\n",
       "       [   6,    4]])"
      ]
     },
     "execution_count": 67,
     "metadata": {},
     "output_type": "execute_result"
    }
   ],
   "source": [
    "alt_b[0,0] = 9999\n",
    "alt_b"
   ]
  },
  {
   "cell_type": "code",
   "execution_count": 69,
   "id": "96081a22-fa85-4993-b82c-969f31131098",
   "metadata": {},
   "outputs": [
    {
     "data": {
      "text/plain": [
       "array([[9, 4, 6, 2, 1],\n",
       "       [7, 0, 1, 4, 4],\n",
       "       [6, 4, 5, 6, 8],\n",
       "       [8, 3, 5, 2, 5],\n",
       "       [8, 9, 1, 2, 5]])"
      ]
     },
     "execution_count": 69,
     "metadata": {},
     "output_type": "execute_result"
    }
   ],
   "source": [
    "# görüldüğü gibi copy() methodu sayesinde oluşturdmuş olduğumuz ana arrayin yapsısında bir değişiklik olmadı\n",
    "m"
   ]
  },
  {
   "cell_type": "code",
   "execution_count": 70,
   "id": "bda794b9-2457-4ef6-869d-1efd445991a7",
   "metadata": {},
   "outputs": [
    {
     "data": {
      "text/plain": [
       "array([[29997,    12],\n",
       "       [   21,     0],\n",
       "       [   18,    12]])"
      ]
     },
     "execution_count": 70,
     "metadata": {},
     "output_type": "execute_result"
    }
   ],
   "source": [
    "alt_b * 3"
   ]
  },
  {
   "cell_type": "markdown",
   "id": "4a8283a2-aa9a-414c-b2d3-0c9e3b6a0d7c",
   "metadata": {},
   "source": [
    "# Fancy Index ile Elemanlara Erişmek"
   ]
  },
  {
   "cell_type": "code",
   "execution_count": 2,
   "id": "e6cd2758-e53e-410b-a79e-60dbe2c24a2f",
   "metadata": {},
   "outputs": [
    {
     "data": {
      "text/plain": [
       "array([ 0,  3,  6,  9, 12, 15, 18, 21, 24, 27])"
      ]
     },
     "execution_count": 2,
     "metadata": {},
     "output_type": "execute_result"
    }
   ],
   "source": [
    "import numpy as np\n",
    "v = np.arange(0,30, 3)\n",
    "v"
   ]
  },
  {
   "cell_type": "code",
   "execution_count": 4,
   "id": "84bfede8-905c-4037-89a9-e92f9eb4dad9",
   "metadata": {},
   "outputs": [
    {
     "data": {
      "text/plain": [
       "9"
      ]
     },
     "execution_count": 4,
     "metadata": {},
     "output_type": "execute_result"
    }
   ],
   "source": [
    "# örneğin biz bu arrayin 3 ve 5 nolu indexlerine erişmek isteyelim bu durumda napıyoruz\n",
    "v[3]"
   ]
  },
  {
   "cell_type": "code",
   "execution_count": 5,
   "id": "64788abb-9d06-45bf-8eba-42aff09b4a7c",
   "metadata": {},
   "outputs": [
    {
     "data": {
      "text/plain": [
       "15"
      ]
     },
     "execution_count": 5,
     "metadata": {},
     "output_type": "execute_result"
    }
   ],
   "source": [
    "v[5]"
   ]
  },
  {
   "cell_type": "code",
   "execution_count": 6,
   "id": "a49bb690-3eed-4a20-b539-5b7719ad3a2d",
   "metadata": {},
   "outputs": [
    {
     "data": {
      "text/plain": [
       "[3, 9, 15]"
      ]
     },
     "execution_count": 6,
     "metadata": {},
     "output_type": "execute_result"
    }
   ],
   "source": [
    "# bunları bir arada görmek için\n",
    "[v[1], v[3], v[5]]"
   ]
  },
  {
   "cell_type": "code",
   "execution_count": 30,
   "id": "7e15ad23-5502-49d6-a497-75d9a0de7629",
   "metadata": {},
   "outputs": [],
   "source": [
    "# elimdeki 3 tane değer için böyle bir bilgiye kolayca erişebildim fakat öyleki bir fonksiyonun çıktısı\n",
    "# bir döngünün çıktısı elimde yüzlerce index bilgisi taşıyo ve ben bu index bilgilerinin her  birisinin\n",
    "# elimdeki arrayin içerisinden gidip yakalamak istiyorum. Bunu nasıl yapıcam\n",
    "# al_getir isminde bir liste oluşturduk ve bunu kayıt ettik. Elimizde birde v arrayi var\n",
    "# v[al_getir] dediğimiz zaman istenilen indexleri getirmiş oldu, işte buna fancy index denir.\n",
    "# Yani elimizdeki bir döngü yada fonksiyon onlarca belki yüzlerce değeri ürettiyse ve üretilen bu değerlerin \n",
    "# her birisini ben bu array'in içerisinden çekmek istiyorsam bu şekilde basitçe gerçekleştirebiliriz."
   ]
  },
  {
   "cell_type": "code",
   "execution_count": 8,
   "id": "4e351384-6c46-4079-9638-754d3ba5db64",
   "metadata": {},
   "outputs": [],
   "source": [
    "al_getir = [1,3,5]"
   ]
  },
  {
   "cell_type": "code",
   "execution_count": 9,
   "id": "5dcda326-d82f-4040-b77a-a5e2e67cbba1",
   "metadata": {},
   "outputs": [
    {
     "data": {
      "text/plain": [
       "array([ 0,  3,  6,  9, 12, 15, 18, 21, 24, 27])"
      ]
     },
     "execution_count": 9,
     "metadata": {},
     "output_type": "execute_result"
    }
   ],
   "source": [
    "v"
   ]
  },
  {
   "cell_type": "code",
   "execution_count": 10,
   "id": "b4fd950c-f7bc-433f-b716-060d8e7b00af",
   "metadata": {},
   "outputs": [
    {
     "data": {
      "text/plain": [
       "array([ 3,  9, 15])"
      ]
     },
     "execution_count": 10,
     "metadata": {},
     "output_type": "execute_result"
    }
   ],
   "source": [
    "v[al_getir]"
   ]
  },
  {
   "cell_type": "code",
   "execution_count": 13,
   "id": "9642b4af-8015-4bb4-a414-84d160b8e685",
   "metadata": {},
   "outputs": [],
   "source": [
    "# iki boyutta fancy ındex işlemi"
   ]
  },
  {
   "cell_type": "code",
   "execution_count": 14,
   "id": "03c63929-c07c-40b0-b997-9bd4a4908718",
   "metadata": {},
   "outputs": [
    {
     "data": {
      "text/plain": [
       "array([[0, 1, 2],\n",
       "       [3, 4, 5],\n",
       "       [6, 7, 8]])"
      ]
     },
     "execution_count": 14,
     "metadata": {},
     "output_type": "execute_result"
    }
   ],
   "source": [
    "m = np.arange(9).reshape((3,3))\n",
    "m"
   ]
  },
  {
   "cell_type": "code",
   "execution_count": 15,
   "id": "d2de723d-3cc1-49c3-8231-802f7f57a545",
   "metadata": {},
   "outputs": [],
   "source": [
    "# iki boyutlu işlemlerde yine bir liste yada numpy arrayi oluşturabiliriz."
   ]
  },
  {
   "cell_type": "code",
   "execution_count": 18,
   "id": "dfb22add-9925-43de-94a7-2b1ca199a8ee",
   "metadata": {},
   "outputs": [
    {
     "data": {
      "text/plain": [
       "array([1, 5])"
      ]
     },
     "execution_count": 18,
     "metadata": {},
     "output_type": "execute_result"
    }
   ],
   "source": [
    "satir = np.array([0,1])\n",
    "sutun = np.array([1,2])\n",
    "m[satir, sutun]"
   ]
  },
  {
   "cell_type": "code",
   "execution_count": 19,
   "id": "ad665f05-cf55-4bb1-8859-8c102f504a4e",
   "metadata": {},
   "outputs": [],
   "source": [
    "# fancy kavramıyla slice, klasik index işlemini ve bazı işlemleri bir arada kullanabiliyoruz.\n",
    "# basit index ile fancy index"
   ]
  },
  {
   "cell_type": "code",
   "execution_count": 31,
   "id": "343ffb6f-e5c4-46b3-a72d-e7241f285b91",
   "metadata": {},
   "outputs": [
    {
     "data": {
      "text/plain": [
       "array([[0, 1, 2],\n",
       "       [3, 4, 5],\n",
       "       [6, 7, 8]])"
      ]
     },
     "execution_count": 31,
     "metadata": {},
     "output_type": "execute_result"
    }
   ],
   "source": [
    "m"
   ]
  },
  {
   "cell_type": "code",
   "execution_count": 27,
   "id": "c893c72c-9769-4326-9c59-3a4532853fba",
   "metadata": {},
   "outputs": [
    {
     "data": {
      "text/plain": [
       "array([1, 2])"
      ]
     },
     "execution_count": 27,
     "metadata": {},
     "output_type": "execute_result"
    }
   ],
   "source": [
    "# 0.satıda 1. ve 2.sutun\n",
    "m[0, [1,2]]"
   ]
  },
  {
   "cell_type": "code",
   "execution_count": 29,
   "id": "2dd1d30c-0699-4349-a2e3-baa6b91e6cc9",
   "metadata": {},
   "outputs": [],
   "source": [
    "# slice ile fancy\n",
    "# 0'dan son satıra kadar git , [1.ve 2.sutunları aldı] "
   ]
  },
  {
   "cell_type": "code",
   "execution_count": 23,
   "id": "4d20abbc-a536-412f-96f0-e07b5bade5db",
   "metadata": {},
   "outputs": [
    {
     "data": {
      "text/plain": [
       "array([[1, 2],\n",
       "       [4, 5],\n",
       "       [7, 8]])"
      ]
     },
     "execution_count": 23,
     "metadata": {},
     "output_type": "execute_result"
    }
   ],
   "source": [
    "m[0:, [1,2]]"
   ]
  },
  {
   "cell_type": "markdown",
   "id": "2132ef22-564b-4bff-a822-55551217ca98",
   "metadata": {},
   "source": [
    "# Koşullu Eleman İşlemleri"
   ]
  },
  {
   "cell_type": "code",
   "execution_count": 32,
   "id": "8dda69a6-59e7-4a40-a8de-1bc5a23fc7e7",
   "metadata": {},
   "outputs": [
    {
     "data": {
      "text/plain": [
       "array([1, 2, 3, 4, 5])"
      ]
     },
     "execution_count": 32,
     "metadata": {},
     "output_type": "execute_result"
    }
   ],
   "source": [
    "import numpy as np\n",
    "v = np.array([1,2,3,4,5])\n",
    "v"
   ]
  },
  {
   "cell_type": "code",
   "execution_count": 50,
   "id": "886cb71c-c729-4cb2-83ca-ff200551b3c1",
   "metadata": {},
   "outputs": [],
   "source": [
    "# belirli bir vektörün yada arrayin içerisinde belirli bir koşulu çağırıp bu koşulu sağlayan elemanların\n",
    "# yakalanması işlemleri"
   ]
  },
  {
   "cell_type": "code",
   "execution_count": 35,
   "id": "d158c189-8641-49fc-9149-a9de59461f08",
   "metadata": {},
   "outputs": [
    {
     "data": {
      "text/plain": [
       "array([False, False, False, False, False])"
      ]
     },
     "execution_count": 35,
     "metadata": {},
     "output_type": "execute_result"
    }
   ],
   "source": [
    "# v arrayi içerisindeki değerlerin 5'ten büyük olup olmadığını sorgular\n",
    "v > 5"
   ]
  },
  {
   "cell_type": "code",
   "execution_count": 36,
   "id": "c5797287-aed2-4964-8c84-697d9bb85b9a",
   "metadata": {},
   "outputs": [
    {
     "data": {
      "text/plain": [
       "array([ True,  True, False, False, False])"
      ]
     },
     "execution_count": 36,
     "metadata": {},
     "output_type": "execute_result"
    }
   ],
   "source": [
    "v < 3"
   ]
  },
  {
   "cell_type": "markdown",
   "id": "7359bac0-61f3-438d-9943-89b1a8d9aff0",
   "metadata": {},
   "source": [
    "* ilk yaptığımız işlem bu şartın sağlanıp sağlanmadığı kontrol etmek oldu \n",
    "* peki şimdi bu şimdi şartı sağlayanlara nasıl erişicez, işte burada tekrar **fancy** işlemi devreye giriyor"
   ]
  },
  {
   "cell_type": "code",
   "execution_count": 39,
   "id": "4fb24c67-586f-413a-8649-be1b9f4e39e3",
   "metadata": {},
   "outputs": [],
   "source": [
    "# v[v < 3] -> v vöktörünün içine giriyorum ve diyorum ki ben senin içersinde şu sorgu sonucunu sağlayan\n",
    "# değerleri görmek istiyorum "
   ]
  },
  {
   "cell_type": "code",
   "execution_count": 40,
   "id": "dd1c0915-3cf3-4fa2-9bac-9c45c5b30fd9",
   "metadata": {},
   "outputs": [
    {
     "data": {
      "text/plain": [
       "array([1, 2])"
      ]
     },
     "execution_count": 40,
     "metadata": {},
     "output_type": "execute_result"
    }
   ],
   "source": [
    "v[v < 3]"
   ]
  },
  {
   "cell_type": "code",
   "execution_count": 41,
   "id": "152e3f4a-01e5-4474-8501-0eb36155022f",
   "metadata": {},
   "outputs": [
    {
     "data": {
      "text/plain": [
       "array([4, 5])"
      ]
     },
     "execution_count": 41,
     "metadata": {},
     "output_type": "execute_result"
    }
   ],
   "source": [
    "v[v >  3]"
   ]
  },
  {
   "cell_type": "code",
   "execution_count": 42,
   "id": "1b2bf776-a600-4cb2-9ac0-d99a73b2b679",
   "metadata": {},
   "outputs": [
    {
     "data": {
      "text/plain": [
       "array([3, 4, 5])"
      ]
     },
     "execution_count": 42,
     "metadata": {},
     "output_type": "execute_result"
    }
   ],
   "source": [
    "v[v >= 3]"
   ]
  },
  {
   "cell_type": "code",
   "execution_count": 43,
   "id": "19bc0cc5-5dc5-4aee-89c4-2baa4a99fe36",
   "metadata": {},
   "outputs": [
    {
     "data": {
      "text/plain": [
       "array([1, 2, 3])"
      ]
     },
     "execution_count": 43,
     "metadata": {},
     "output_type": "execute_result"
    }
   ],
   "source": [
    "v[v <= 3]"
   ]
  },
  {
   "cell_type": "code",
   "execution_count": 44,
   "id": "77c488e6-32a5-4b53-81c8-d1bcf2d9fffc",
   "metadata": {},
   "outputs": [
    {
     "data": {
      "text/plain": [
       "array([3])"
      ]
     },
     "execution_count": 44,
     "metadata": {},
     "output_type": "execute_result"
    }
   ],
   "source": [
    "v[v == 3]"
   ]
  },
  {
   "cell_type": "code",
   "execution_count": 45,
   "id": "b318796d-c76e-4c87-9a56-dfea076cfbdf",
   "metadata": {},
   "outputs": [
    {
     "data": {
      "text/plain": [
       "array([1, 2, 4, 5])"
      ]
     },
     "execution_count": 45,
     "metadata": {},
     "output_type": "execute_result"
    }
   ],
   "source": [
    "v[v != 3]"
   ]
  },
  {
   "cell_type": "code",
   "execution_count": 46,
   "id": "4e2ae82a-0ad2-467d-a80c-e3c0fb189720",
   "metadata": {},
   "outputs": [
    {
     "data": {
      "text/plain": [
       "array([ 2,  4,  6,  8, 10])"
      ]
     },
     "execution_count": 46,
     "metadata": {},
     "output_type": "execute_result"
    }
   ],
   "source": [
    "v * 2"
   ]
  },
  {
   "cell_type": "code",
   "execution_count": 47,
   "id": "21423287-6ff1-4c43-9927-49c1226a01e0",
   "metadata": {},
   "outputs": [
    {
     "data": {
      "text/plain": [
       "array([0.2, 0.4, 0.6, 0.8, 1. ])"
      ]
     },
     "execution_count": 47,
     "metadata": {},
     "output_type": "execute_result"
    }
   ],
   "source": [
    "v / 5"
   ]
  },
  {
   "cell_type": "code",
   "execution_count": 48,
   "id": "b5ef81a7-7824-488b-8386-d84b48111cca",
   "metadata": {},
   "outputs": [
    {
     "data": {
      "text/plain": [
       "array([0.5, 1. , 1.5, 2. , 2.5])"
      ]
     },
     "execution_count": 48,
     "metadata": {},
     "output_type": "execute_result"
    }
   ],
   "source": [
    "v*5/10"
   ]
  },
  {
   "cell_type": "code",
   "execution_count": 49,
   "id": "0b997de2-328e-4635-a4c9-665c2450f253",
   "metadata": {},
   "outputs": [
    {
     "data": {
      "text/plain": [
       "array([ 1,  4,  9, 16, 25], dtype=int32)"
      ]
     },
     "execution_count": 49,
     "metadata": {},
     "output_type": "execute_result"
    }
   ],
   "source": [
    "v ** 2"
   ]
  },
  {
   "cell_type": "markdown",
   "id": "e698f5b0-3b8d-464a-9345-e675ad25cd2a",
   "metadata": {},
   "source": [
    "# Matematiksel İşlemler"
   ]
  },
  {
   "cell_type": "code",
   "execution_count": 1,
   "id": "913c8e47-9cef-4956-8c07-b2f413adb911",
   "metadata": {},
   "outputs": [
    {
     "data": {
      "text/plain": [
       "array([1, 2, 3, 4, 5])"
      ]
     },
     "execution_count": 1,
     "metadata": {},
     "output_type": "execute_result"
    }
   ],
   "source": [
    "import numpy as np\n",
    "v = np.array([1,2,3,4,5,])\n",
    "v"
   ]
  },
  {
   "cell_type": "code",
   "execution_count": 3,
   "id": "8ee66d45-9be3-4b2c-8eb7-54cf37b0f3d7",
   "metadata": {},
   "outputs": [
    {
     "data": {
      "text/plain": [
       "array([0, 1, 2, 3, 4])"
      ]
     },
     "execution_count": 3,
     "metadata": {},
     "output_type": "execute_result"
    }
   ],
   "source": [
    "v - 1 "
   ]
  },
  {
   "cell_type": "code",
   "execution_count": 4,
   "id": "07e45f90-ec38-4ee2-9f37-a1f824be7309",
   "metadata": {},
   "outputs": [
    {
     "data": {
      "text/plain": [
       "array([ 5, 10, 15, 20, 25])"
      ]
     },
     "execution_count": 4,
     "metadata": {},
     "output_type": "execute_result"
    }
   ],
   "source": [
    "v * 5"
   ]
  },
  {
   "cell_type": "code",
   "execution_count": 5,
   "id": "39126c74-d44e-4ee3-866d-83e3a44f8e1b",
   "metadata": {},
   "outputs": [
    {
     "data": {
      "text/plain": [
       "array([-0.5,  0. ,  0.5,  1. ,  1.5])"
      ]
     },
     "execution_count": 5,
     "metadata": {},
     "output_type": "execute_result"
    }
   ],
   "source": [
    "v*5/10 -1 "
   ]
  },
  {
   "cell_type": "code",
   "execution_count": 8,
   "id": "ff42df8e-24d1-4a50-a2fa-829fe19de7a0",
   "metadata": {},
   "outputs": [
    {
     "data": {
      "text/plain": [
       "array([0, 1, 2, 3, 4])"
      ]
     },
     "execution_count": 8,
     "metadata": {},
     "output_type": "execute_result"
    }
   ],
   "source": [
    "# çıkarma işlemi\n",
    "np.subtract(v, 1)"
   ]
  },
  {
   "cell_type": "code",
   "execution_count": 10,
   "id": "8bd9bb1e-527c-48d7-9583-a8ef5cda961e",
   "metadata": {},
   "outputs": [
    {
     "data": {
      "text/plain": [
       "array([2, 3, 4, 5, 6])"
      ]
     },
     "execution_count": 10,
     "metadata": {},
     "output_type": "execute_result"
    }
   ],
   "source": [
    "# toplama işlemi\n",
    "np.add(v, 1)"
   ]
  },
  {
   "cell_type": "code",
   "execution_count": 12,
   "id": "3e5a25ea-7d5a-450f-8bf5-668daf655f9a",
   "metadata": {},
   "outputs": [
    {
     "data": {
      "text/plain": [
       "array([ 2,  4,  6,  8, 10])"
      ]
     },
     "execution_count": 12,
     "metadata": {},
     "output_type": "execute_result"
    }
   ],
   "source": [
    "# çarpma işlemi\n",
    "np.multiply(v, 2)"
   ]
  },
  {
   "cell_type": "code",
   "execution_count": 15,
   "id": "b36467dd-a2e4-43e3-8d5e-bc45f97d2d31",
   "metadata": {},
   "outputs": [
    {
     "data": {
      "text/plain": [
       "array([0.5, 1. , 1.5, 2. , 2.5])"
      ]
     },
     "execution_count": 15,
     "metadata": {},
     "output_type": "execute_result"
    }
   ],
   "source": [
    "# bölme işlemi\n",
    "np.divide(v, 2)"
   ]
  },
  {
   "cell_type": "code",
   "execution_count": 17,
   "id": "4c8dd79e-8ff4-4ad4-90e1-bce0f3f88597",
   "metadata": {},
   "outputs": [
    {
     "data": {
      "text/plain": [
       "array([  1,   8,  27,  64, 125], dtype=int32)"
      ]
     },
     "execution_count": 17,
     "metadata": {},
     "output_type": "execute_result"
    }
   ],
   "source": [
    "# üs alma\n",
    "np.power(v, 3)"
   ]
  },
  {
   "cell_type": "code",
   "execution_count": 19,
   "id": "b4b58cb1-5263-4c8a-b569-0cc20a909f58",
   "metadata": {},
   "outputs": [
    {
     "data": {
      "text/plain": [
       "array([1, 0, 1, 0, 1], dtype=int32)"
      ]
     },
     "execution_count": 19,
     "metadata": {},
     "output_type": "execute_result"
    }
   ],
   "source": [
    "# v'nin 2'ye bölümünden kalanları getir -> mod alma\n",
    "v % 2"
   ]
  },
  {
   "cell_type": "code",
   "execution_count": 20,
   "id": "c0d11bf7-34a1-4f4f-83e6-edd76c2289f2",
   "metadata": {},
   "outputs": [
    {
     "data": {
      "text/plain": [
       "array([1, 0, 1, 0, 1], dtype=int32)"
      ]
     },
     "execution_count": 20,
     "metadata": {},
     "output_type": "execute_result"
    }
   ],
   "source": [
    "np.mod(v, 2)"
   ]
  },
  {
   "cell_type": "code",
   "execution_count": 23,
   "id": "4556bccf-45c0-4f81-bd79-a17ff8211c75",
   "metadata": {},
   "outputs": [
    {
     "data": {
      "text/plain": [
       "array([3])"
      ]
     },
     "execution_count": 23,
     "metadata": {},
     "output_type": "execute_result"
    }
   ],
   "source": [
    "# absolute -> mutlak değer almak iç kullanılır\n",
    "np.absolute(np.array([-3]))"
   ]
  },
  {
   "cell_type": "code",
   "execution_count": 25,
   "id": "1c9de822-30a4-4e31-93b7-eeef2935c2cd",
   "metadata": {},
   "outputs": [
    {
     "data": {
      "text/plain": [
       "0.9589157234143065"
      ]
     },
     "execution_count": 25,
     "metadata": {},
     "output_type": "execute_result"
    }
   ],
   "source": [
    "np.sin(360)"
   ]
  },
  {
   "cell_type": "code",
   "execution_count": 26,
   "id": "3f097f0d-4d9a-4130-bd6e-5fbeeec3896d",
   "metadata": {},
   "outputs": [
    {
     "data": {
      "text/plain": [
       "-0.5984600690578581"
      ]
     },
     "execution_count": 26,
     "metadata": {},
     "output_type": "execute_result"
    }
   ],
   "source": [
    "np.cos(180)"
   ]
  },
  {
   "cell_type": "code",
   "execution_count": 27,
   "id": "33069eed-a513-4b51-a925-c4ed25fb7df9",
   "metadata": {},
   "outputs": [],
   "source": [
    "v = np.array([1,2,3])"
   ]
  },
  {
   "cell_type": "code",
   "execution_count": 28,
   "id": "cdd49534-8e55-475a-9977-c0a4142b1e83",
   "metadata": {},
   "outputs": [
    {
     "data": {
      "text/plain": [
       "array([0.        , 0.69314718, 1.09861229])"
      ]
     },
     "execution_count": 28,
     "metadata": {},
     "output_type": "execute_result"
    }
   ],
   "source": [
    "np.log(v)"
   ]
  },
  {
   "cell_type": "code",
   "execution_count": 29,
   "id": "e5e88fa2-ac1c-41c6-aeed-e9d351f725d0",
   "metadata": {},
   "outputs": [
    {
     "data": {
      "text/plain": [
       "array([0.       , 1.       , 1.5849625])"
      ]
     },
     "execution_count": 29,
     "metadata": {},
     "output_type": "execute_result"
    }
   ],
   "source": [
    "np.log2(v)"
   ]
  },
  {
   "cell_type": "code",
   "execution_count": 30,
   "id": "1be4bac8-52d3-46a7-8824-241d98f5efde",
   "metadata": {},
   "outputs": [
    {
     "data": {
      "text/plain": [
       "array([0.        , 0.30103   , 0.47712125])"
      ]
     },
     "execution_count": 30,
     "metadata": {},
     "output_type": "execute_result"
    }
   ],
   "source": [
    "np.log10(v)"
   ]
  },
  {
   "cell_type": "code",
   "execution_count": 31,
   "id": "35c2b1ae-8d1e-42b0-a14d-b873e6fd1a5c",
   "metadata": {
    "collapsed": true,
    "jupyter": {
     "outputs_hidden": true
    },
    "tags": []
   },
   "outputs": [
    {
     "data": {
      "text/plain": [
       "\u001b[1;31mType:\u001b[0m        module\n",
       "\u001b[1;31mString form:\u001b[0m <module 'numpy' from 'C:\\\\Users\\\\ygtoz\\\\anaconda3\\\\lib\\\\site-packages\\\\numpy\\\\__init__.py'>\n",
       "\u001b[1;31mFile:\u001b[0m        c:\\users\\ygtoz\\anaconda3\\lib\\site-packages\\numpy\\__init__.py\n",
       "\u001b[1;31mDocstring:\u001b[0m  \n",
       "NumPy\n",
       "=====\n",
       "\n",
       "Provides\n",
       "  1. An array object of arbitrary homogeneous items\n",
       "  2. Fast mathematical operations over arrays\n",
       "  3. Linear Algebra, Fourier Transforms, Random Number Generation\n",
       "\n",
       "How to use the documentation\n",
       "----------------------------\n",
       "Documentation is available in two forms: docstrings provided\n",
       "with the code, and a loose standing reference guide, available from\n",
       "`the NumPy homepage <https://www.scipy.org>`_.\n",
       "\n",
       "We recommend exploring the docstrings using\n",
       "`IPython <https://ipython.org>`_, an advanced Python shell with\n",
       "TAB-completion and introspection capabilities.  See below for further\n",
       "instructions.\n",
       "\n",
       "The docstring examples assume that `numpy` has been imported as `np`::\n",
       "\n",
       "  >>> import numpy as np\n",
       "\n",
       "Code snippets are indicated by three greater-than signs::\n",
       "\n",
       "  >>> x = 42\n",
       "  >>> x = x + 1\n",
       "\n",
       "Use the built-in ``help`` function to view a function's docstring::\n",
       "\n",
       "  >>> help(np.sort)\n",
       "  ... # doctest: +SKIP\n",
       "\n",
       "For some objects, ``np.info(obj)`` may provide additional help.  This is\n",
       "particularly true if you see the line \"Help on ufunc object:\" at the top\n",
       "of the help() page.  Ufuncs are implemented in C, not Python, for speed.\n",
       "The native Python help() does not know how to view their help, but our\n",
       "np.info() function does.\n",
       "\n",
       "To search for documents containing a keyword, do::\n",
       "\n",
       "  >>> np.lookfor('keyword')\n",
       "  ... # doctest: +SKIP\n",
       "\n",
       "General-purpose documents like a glossary and help on the basic concepts\n",
       "of numpy are available under the ``doc`` sub-module::\n",
       "\n",
       "  >>> from numpy import doc\n",
       "  >>> help(doc)\n",
       "  ... # doctest: +SKIP\n",
       "\n",
       "Available subpackages\n",
       "---------------------\n",
       "doc\n",
       "    Topical documentation on broadcasting, indexing, etc.\n",
       "lib\n",
       "    Basic functions used by several sub-packages.\n",
       "random\n",
       "    Core Random Tools\n",
       "linalg\n",
       "    Core Linear Algebra Tools\n",
       "fft\n",
       "    Core FFT routines\n",
       "polynomial\n",
       "    Polynomial tools\n",
       "testing\n",
       "    NumPy testing tools\n",
       "f2py\n",
       "    Fortran to Python Interface Generator.\n",
       "distutils\n",
       "    Enhancements to distutils with support for\n",
       "    Fortran compilers support and more.\n",
       "\n",
       "Utilities\n",
       "---------\n",
       "test\n",
       "    Run numpy unittests\n",
       "show_config\n",
       "    Show numpy build configuration\n",
       "dual\n",
       "    Overwrite certain functions with high-performance SciPy tools.\n",
       "    Note: `numpy.dual` is deprecated.  Use the functions from NumPy or Scipy\n",
       "    directly instead of importing them from `numpy.dual`.\n",
       "matlib\n",
       "    Make everything matrices.\n",
       "__version__\n",
       "    NumPy version string\n",
       "\n",
       "Viewing documentation using IPython\n",
       "-----------------------------------\n",
       "Start IPython with the NumPy profile (``ipython -p numpy``), which will\n",
       "import `numpy` under the alias `np`.  Then, use the ``cpaste`` command to\n",
       "paste examples into the shell.  To see which functions are available in\n",
       "`numpy`, type ``np.<TAB>`` (where ``<TAB>`` refers to the TAB key), or use\n",
       "``np.*cos*?<ENTER>`` (where ``<ENTER>`` refers to the ENTER key) to narrow\n",
       "down the list.  To view the docstring for a function, use\n",
       "``np.cos?<ENTER>`` (to view the docstring) and ``np.cos??<ENTER>`` (to view\n",
       "the source code).\n",
       "\n",
       "Copies vs. in-place operation\n",
       "-----------------------------\n",
       "Most of the functions in `numpy` return a copy of the array argument\n",
       "(e.g., `np.sort`).  In-place versions of these functions are often\n",
       "available as array methods, i.e. ``x = np.array([1,2,3]); x.sort()``.\n",
       "Exceptions to this rule are documented.\n"
      ]
     },
     "metadata": {},
     "output_type": "display_data"
    }
   ],
   "source": [
    "?np"
   ]
  },
  {
   "cell_type": "code",
   "execution_count": 33,
   "id": "f2519934-045c-4e59-a0f8-d26c985d9c79",
   "metadata": {},
   "outputs": [],
   "source": [
    "# cheatsheet -> kopya kağıdı"
   ]
  },
  {
   "cell_type": "code",
   "execution_count": 35,
   "id": "fb8258e6-59fa-4b94-981f-b907f3059d67",
   "metadata": {},
   "outputs": [
    {
     "data": {
      "text/plain": [
       "array([1, 2, 3])"
      ]
     },
     "execution_count": 35,
     "metadata": {},
     "output_type": "execute_result"
    }
   ],
   "source": [
    "v"
   ]
  },
  {
   "cell_type": "code",
   "execution_count": 37,
   "id": "1e984b69-a8c7-49f0-9d20-7b18c20071c9",
   "metadata": {},
   "outputs": [
    {
     "data": {
      "text/plain": [
       "2.0"
      ]
     },
     "execution_count": 37,
     "metadata": {},
     "output_type": "execute_result"
    }
   ],
   "source": [
    "# ortalama \n",
    "np.mean(v)"
   ]
  },
  {
   "cell_type": "code",
   "execution_count": 39,
   "id": "c39e07b0-e73e-47dc-92fd-a61a07bed015",
   "metadata": {},
   "outputs": [
    {
     "data": {
      "text/plain": [
       "6"
      ]
     },
     "execution_count": 39,
     "metadata": {},
     "output_type": "execute_result"
    }
   ],
   "source": [
    "# içerisindeki değerleri toplar\n",
    "np.sum(v)"
   ]
  },
  {
   "cell_type": "code",
   "execution_count": 40,
   "id": "cc328023-9d8f-4c3d-a892-c2787965a7a2",
   "metadata": {},
   "outputs": [
    {
     "data": {
      "text/plain": [
       "1"
      ]
     },
     "execution_count": 40,
     "metadata": {},
     "output_type": "execute_result"
    }
   ],
   "source": [
    "np.min(v)"
   ]
  },
  {
   "cell_type": "code",
   "execution_count": 41,
   "id": "f91854e9-0ea7-465d-be1b-f81e1cf485bf",
   "metadata": {},
   "outputs": [
    {
     "data": {
      "text/plain": [
       "1"
      ]
     },
     "execution_count": 41,
     "metadata": {},
     "output_type": "execute_result"
    }
   ],
   "source": [
    "v.min()"
   ]
  },
  {
   "cell_type": "code",
   "execution_count": 42,
   "id": "cc8986aa-bdef-40f7-9979-00e930b37890",
   "metadata": {},
   "outputs": [
    {
     "data": {
      "text/plain": [
       "3"
      ]
     },
     "execution_count": 42,
     "metadata": {},
     "output_type": "execute_result"
    }
   ],
   "source": [
    "v.max()"
   ]
  },
  {
   "cell_type": "markdown",
   "id": "7f54d6d6-f94d-4ebc-94c6-1f55dc75e15d",
   "metadata": {},
   "source": [
    "# NumPy ile İki Bilinmeyenli Denklem"
   ]
  },
  {
   "cell_type": "markdown",
   "id": "8e30fdee-e856-4bc8-b8d1-b6ef3e73e92b",
   "metadata": {},
   "source": [
    "* 5 * x0 + x1 = 12\n",
    "* x0 + 3 * x1 = 10"
   ]
  },
  {
   "cell_type": "code",
   "execution_count": 62,
   "id": "693220c8-9d26-459a-b842-f6275523dc3c",
   "metadata": {},
   "outputs": [],
   "source": [
    "# Numpy'ın lineercebir alanına yönelik olarak içerisinde geliştirilmiş olan bir alt kütüphanesi var.\n",
    "# linalg şeklinde bu kütüphaneyi kullanarak bu problemi çözebiliriz\n",
    "# bu denklemlerdeki bu bilinmeyenlerin katsayılarını arrayler cinsinden ifade ederek Numpy'ına altında\n",
    "# yer alan bir fonksiyon aracılığıyla bilinmeyen değerleri çözmüş olucaz.\n",
    "# Öcelikle buradaki matematiksel ifadeyi numpy ın, python un anlayabileceği bir formata getirmemiz gerekiyor,\n",
    "# bunun yoluda bilinmeyen ifadelerin katsayılarını bir vektöre koymak, bunun sonucunda oluşan değerleri\n",
    "# bir vektöre koymak ve solve isimli fonksiyonu kullanarak bunları çözmek"
   ]
  },
  {
   "cell_type": "code",
   "execution_count": 48,
   "id": "6999396b-9105-467f-b1a8-1ced48b53f63",
   "metadata": {},
   "outputs": [],
   "source": [
    "# bilinmeyenlerin katsayıları\n",
    "a = np.array([[5,1], [1,3]])\n",
    "# bu bilinmeyenler sonucunda oluşan değerleride bir vektöre koyduk\n",
    "b = np.array([12, 10])"
   ]
  },
  {
   "cell_type": "code",
   "execution_count": 49,
   "id": "03fd1e26-4403-4da3-96e1-63f939bcff75",
   "metadata": {},
   "outputs": [
    {
     "data": {
      "text/plain": [
       "array([[5, 1],\n",
       "       [1, 3]])"
      ]
     },
     "execution_count": 49,
     "metadata": {},
     "output_type": "execute_result"
    }
   ],
   "source": [
    "a"
   ]
  },
  {
   "cell_type": "code",
   "execution_count": 50,
   "id": "bec774f1-02c6-40d5-85ec-1593fab97052",
   "metadata": {},
   "outputs": [
    {
     "data": {
      "text/plain": [
       "array([12, 10])"
      ]
     },
     "execution_count": 50,
     "metadata": {},
     "output_type": "execute_result"
    }
   ],
   "source": [
    "b"
   ]
  },
  {
   "cell_type": "markdown",
   "id": "f73a9962-d435-497f-a7fa-f62be0a3ff7d",
   "metadata": {},
   "source": [
    "* numpyın içerisinden lineercebir işlemleri için özelleştirilmiş alt paket içerisinden solve isimli bir fonksiyonu çağırıyorum \n",
    "* Diyoruzki; sen girmiş olduğum 1. argüman ve 2.argüman arasındaki ilişki neticesinde bu oluşacak olan katsayıları hesapla\n",
    "* **x = np.linalg.solve(a, b)**"
   ]
  },
  {
   "cell_type": "code",
   "execution_count": 53,
   "id": "859b489f-b843-47c0-ab30-f59a25d88247",
   "metadata": {},
   "outputs": [
    {
     "data": {
      "text/plain": [
       "array([1.85714286, 2.71428571])"
      ]
     },
     "execution_count": 53,
     "metadata": {},
     "output_type": "execute_result"
    }
   ],
   "source": [
    "x = np.linalg.solve(a, b) \n",
    "x"
   ]
  },
  {
   "cell_type": "code",
   "execution_count": null,
   "id": "24586e3a-a8d6-4dab-81a0-5a421b3968fc",
   "metadata": {},
   "outputs": [],
   "source": []
  },
  {
   "cell_type": "code",
   "execution_count": null,
   "id": "33633773-1bfc-4816-af7b-b6303a570439",
   "metadata": {},
   "outputs": [],
   "source": []
  }
 ],
 "metadata": {
  "kernelspec": {
   "display_name": "Python 3",
   "language": "python",
   "name": "python3"
  },
  "language_info": {
   "codemirror_mode": {
    "name": "ipython",
    "version": 3
   },
   "file_extension": ".py",
   "mimetype": "text/x-python",
   "name": "python",
   "nbconvert_exporter": "python",
   "pygments_lexer": "ipython3",
   "version": "3.8.8"
  }
 },
 "nbformat": 4,
 "nbformat_minor": 5
}
